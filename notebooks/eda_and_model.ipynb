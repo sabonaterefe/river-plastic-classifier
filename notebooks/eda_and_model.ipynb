{
 "cells": [
  {
   "cell_type": "code",
   "execution_count": 13,
   "id": "bd6957d8-bf05-49f2-8cd7-511dbcc2cc49",
   "metadata": {},
   "outputs": [
    {
     "name": "stdout",
     "output_type": "stream",
     "text": [
      "Shape of X after cleaning: (163, 2)\n",
      "Accuracy: 1.0\n",
      "Precision: 1.0\n",
      "Recall: 1.0\n",
      "\n",
      "Classification Report:\n",
      "               precision    recall  f1-score   support\n",
      "\n",
      "           1       1.00      1.00      1.00        33\n",
      "\n",
      "    accuracy                           1.00        33\n",
      "   macro avg       1.00      1.00      1.00        33\n",
      "weighted avg       1.00      1.00      1.00        33\n",
      "\n",
      "Model saved to ../models/river_plastic_classifier.pkl\n"
     ]
    },
    {
     "data": {
      "image/png": "[encoded data removed]",
      "text/plain": [
       "<Figure size 1000x600 with 1 Axes>"
      ]
     },
     "metadata": {},
     "output_type": "display_data"
    },
    {
     "name": "stdout",
     "output_type": "stream",
     "text": [
      "Feature importance plot saved to ../reports/feature_importance.png\n",
      "Predictions saved to ../reports/test_predictions.csv\n"
     ]
    }
   ],
   "source": [
    "import pandas as pd\n",
    "import os\n",
    "from sklearn.model_selection import train_test_split\n",
    "from sklearn.preprocessing import StandardScaler\n",
    "from sklearn.ensemble import RandomForestClassifier\n",
    "from sklearn.metrics import accuracy_score, precision_score, recall_score, classification_report\n",
    "import matplotlib.pyplot as plt\n",
    "import seaborn as sns\n",
    "import joblib\n",
    "\n",
    "data_path = os.path.join(\"../data/global_riverine_plastic_emissions_into_ocean.csv\")\n",
    "df = pd.read_csv(data_path)\n",
    "\n",
    "df = df.loc[:, ~df.columns.str.contains('^Unnamed')]\n",
    "\n",
    "plastic_col = [col for col in df.columns if 'M[E]' in col][0]\n",
    "df[plastic_col] = pd.to_numeric(df[plastic_col], errors='coerce')\n",
    "df['plastic_contribution'] = df[plastic_col].apply(lambda x: 0 if x > 6008 else 1)\n",
    "\n",
    "drop_cols = ['plastic_contribution', plastic_col]\n",
    "drop_cols += [col for col in df.columns if 'Country' in col or 'Administrative' in col or 'Ratio' in col]\n",
    "X = df.drop(columns=drop_cols, errors='ignore')\n",
    "X = X.select_dtypes(include='number')\n",
    "X = X.dropna()\n",
    "y = df.loc[X.index, 'plastic_contribution']\n",
    "\n",
    "print(f\"Shape of X after cleaning: {X.shape}\")\n",
    "\n",
    "scaler = StandardScaler()\n",
    "X_scaled = scaler.fit_transform(X)\n",
    "\n",
    "X_train, X_test, y_train, y_test = train_test_split(X_scaled, y, test_size=0.2, random_state=42)\n",
    "\n",
    "model = RandomForestClassifier(random_state=42)\n",
    "model.fit(X_train, y_train)\n",
    "\n",
    "y_pred = model.predict(X_test)\n",
    "print(\"Accuracy:\", accuracy_score(y_test, y_pred))\n",
    "print(\"Precision:\", precision_score(y_test, y_pred))\n",
    "print(\"Recall:\", recall_score(y_test, y_pred))\n",
    "print(\"\\nClassification Report:\\n\", classification_report(y_test, y_pred))\n",
    "\n",
    "model_path = os.path.join(\"../models/river_plastic_classifier.pkl\")\n",
    "joblib.dump(model, model_path)\n",
    "print(f\"Model saved to {model_path}\")\n",
    "\n",
    "feature_names = X.columns\n",
    "importances = model.feature_importances_\n",
    "feat_imp = pd.Series(importances, index=feature_names).sort_values(ascending=False)\n",
    "\n",
    "plt.figure(figsize=(10, 6))\n",
    "sns.barplot(x=feat_imp.values[:10], y=feat_imp.index[:10])\n",
    "plt.title(\"Top 10 Feature Importances\")\n",
    "plt.xlabel(\"Importance Score\")\n",
    "plt.ylabel(\"Features\")\n",
    "plt.tight_layout()\n",
    "\n",
    "plot_path = os.path.join(\"../reports/feature_importance.png\")\n",
    "plt.savefig(plot_path)\n",
    "plt.show()\n",
    "print(f\"Feature importance plot saved to {plot_path}\")\n",
    "\n",
    "predictions_df = pd.DataFrame({'Actual': y_test.values, 'Predicted': y_pred})\n",
    "predictions_path = os.path.join(\"../reports/test_predictions.csv\")\n",
    "predictions_df.to_csv(predictions_path, index=False)\n",
    "print(f\"Predictions saved to {predictions_path}\")\n"
   ]
  },
  {
   "cell_type": "code",
   "execution_count": null,
   "id": "778c93c9-b1d9-47f6-ab76-ec42064f15dc",
   "metadata": {},
   "outputs": [],
   "source": []
  },
  {
   "cell_type": "code",
   "execution_count": null,
   "id": "8096d01f-c0b4-43f1-bd32-2430904867d3",
   "metadata": {},
   "outputs": [],
   "source": []
  }
 ],
 "metadata": {
  "kernelspec": {
   "display_name": "Python 3 (ipykernel)",
   "language": "python",
   "name": "python3"
  },
  "language_info": {
   "codemirror_mode": {
    "name": "ipython",
    "version": 3
   },
   "file_extension": ".py",
   "mimetype": "text/x-python",
   "name": "python",
   "nbconvert_exporter": "python",
   "pygments_lexer": "ipython3",
   "version": "3.13.5"
  }
 },
 "nbformat": 4,
 "nbformat_minor": 5
}
